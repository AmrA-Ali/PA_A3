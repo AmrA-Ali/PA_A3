{
 "cells": [
  {
   "cell_type": "code",
   "execution_count": 1,
   "metadata": {},
   "outputs": [
    {
     "name": "stderr",
     "output_type": "stream",
     "text": [
      "/usr/local/lib/python2.7/dist-packages/h5py/__init__.py:34: FutureWarning: Conversion of the second argument of issubdtype from `float` to `np.floating` is deprecated. In future, it will be treated as `np.float64 == np.dtype(float).type`.\n",
      "  from ._conv import register_converters as _register_converters\n",
      "Using TensorFlow backend.\n"
     ]
    }
   ],
   "source": [
    "import os\n",
    "import codecs\n",
    "import math\n",
    "import lightgbm\n",
    "import sklearn.metrics\n",
    "import sklearn\n",
    "import numpy as np\n",
    "import mnist_loader2\n",
    "\n",
    "from sklearn import svm\n",
    "from sklearn.metrics import confusion_matrix, classification_report,roc_curve\n",
    "from sklearn.model_selection import train_test_split\n",
    "from sklearn.metrics import accuracy_score\n",
    "import sklearn.metrics as metrics\n",
    "import matplotlib.pyplot as plt\n"
   ]
  },
  {
   "cell_type": "code",
   "execution_count": 2,
   "metadata": {},
   "outputs": [],
   "source": [
    "(X_train, y_train, X_val, y_val, X_test, y_test ) =  mnist_loader2.load_mnist()\n",
    "X_mean = np.mean(X_train,axis=0)\n",
    "X_train= X_train - X_mean\n",
    "X_val= X_val - X_mean\n",
    "X_test = X_test - X_mean\n",
    "cov = np.dot(X_train.T, X_train)/ X_train.shape[0] # get the data covariance matrix\n",
    "U,S,V = np.linalg.svd(cov) #Columns of U = eigenvectors, S = eigenvalues"
   ]
  },
  {
   "cell_type": "code",
   "execution_count": 3,
   "metadata": {},
   "outputs": [],
   "source": [
    "num_pc = [1,5,7,10,25,50,100]"
   ]
  },
  {
   "cell_type": "code",
   "execution_count": 4,
   "metadata": {},
   "outputs": [],
   "source": [
    "lgb_params = dict()\n",
    "lgb_params['boosting_type'] = 'gbdt'  # space['boosting_type'], # 'gbdt', # gbdt | dart | goss\n",
    "# px['objective'] ='multi:softprob'\n",
    "lgb_params['application'] = 'multiclass'\n",
    "lgb_params['metric'] = 'multi_logloss'\n",
    "lgb_params['num_class'] = 10\n",
    "lgb_params['learning_rate'] = 0.05\n",
    "lgb_params['num_leaves'] = 100\n",
    "lgb_params['min_data_in_leaf'] = 100\n",
    "lgb_params['min_sum_hessian_in_leaf'] = 1e-3\n",
    "lgb_params['max_depth'] = -1\n",
    "lgb_params['lambda_l1'] = 0.0  # space['lambda_l1'],\n",
    "lgb_params['lambda_l2'] = 0.0  # space['lambda_l2'],\n",
    "lgb_params['max_bin'] = 256\n",
    "lgb_params['feature_fraction'] = 0.7\n",
    "lgb_params['bagging_fraction'] = 0.7\n",
    "lgb_params['bagging_freq'] = 1\n"
   ]
  },
  {
   "cell_type": "code",
   "execution_count": 5,
   "metadata": {},
   "outputs": [
    {
     "name": "stdout",
     "output_type": "stream",
     "text": [
      "('Number of Principal Components: ', 1)\n",
      "Training until validation scores don't improve for 100 rounds.\n",
      "[100]\tvalid_0's multi_logloss: 1.84816\n",
      "[200]\tvalid_0's multi_logloss: 1.84835\n",
      "Early stopping, best iteration is:\n",
      "[138]\tvalid_0's multi_logloss: 1.84607\n",
      "nb_trees=138\n",
      "test_loss=1.82078085065 test_acc=0.2983\n",
      "('Number of Principal Components: ', 5)\n",
      "Training until validation scores don't improve for 100 rounds.\n",
      "[100]\tvalid_0's multi_logloss: 0.772612\n",
      "[200]\tvalid_0's multi_logloss: 0.678222\n",
      "[300]\tvalid_0's multi_logloss: 0.667599\n",
      "[400]\tvalid_0's multi_logloss: 0.675187\n",
      "Early stopping, best iteration is:\n",
      "[304]\tvalid_0's multi_logloss: 0.667395\n",
      "nb_trees=304\n",
      "test_loss=0.653816729699 test_acc=0.754\n",
      "('Number of Principal Components: ', 7)\n",
      "Training until validation scores don't improve for 100 rounds.\n",
      "[100]\tvalid_0's multi_logloss: 0.505554\n",
      "[200]\tvalid_0's multi_logloss: 0.391886\n",
      "[300]\tvalid_0's multi_logloss: 0.371098\n",
      "[400]\tvalid_0's multi_logloss: 0.371112\n",
      "Early stopping, best iteration is:\n",
      "[342]\tvalid_0's multi_logloss: 0.369477\n",
      "nb_trees=342\n",
      "test_loss=0.359760616945 test_acc=0.8782\n",
      "('Number of Principal Components: ', 10)\n",
      "Training until validation scores don't improve for 100 rounds.\n",
      "[100]\tvalid_0's multi_logloss: 0.337148\n",
      "[200]\tvalid_0's multi_logloss: 0.236911\n",
      "[300]\tvalid_0's multi_logloss: 0.218394\n",
      "[400]\tvalid_0's multi_logloss: 0.217388\n",
      "Early stopping, best iteration is:\n",
      "[357]\tvalid_0's multi_logloss: 0.216252\n",
      "nb_trees=357\n",
      "test_loss=0.214433630691 test_acc=0.9326\n",
      "('Number of Principal Components: ', 25)\n",
      "Training until validation scores don't improve for 100 rounds.\n",
      "[100]\tvalid_0's multi_logloss: 0.233183\n",
      "[200]\tvalid_0's multi_logloss: 0.126635\n",
      "[300]\tvalid_0's multi_logloss: 0.104587\n",
      "[400]\tvalid_0's multi_logloss: 0.100253\n",
      "[500]\tvalid_0's multi_logloss: 0.101327\n",
      "Early stopping, best iteration is:\n",
      "[410]\tvalid_0's multi_logloss: 0.100049\n",
      "nb_trees=410\n",
      "test_loss=0.100712856227 test_acc=0.9694\n",
      "('Number of Principal Components: ', 50)\n",
      "Training until validation scores don't improve for 100 rounds.\n",
      "[100]\tvalid_0's multi_logloss: 0.225744\n",
      "[200]\tvalid_0's multi_logloss: 0.119627\n",
      "[300]\tvalid_0's multi_logloss: 0.0980662\n",
      "[400]\tvalid_0's multi_logloss: 0.0928612\n",
      "[500]\tvalid_0's multi_logloss: 0.0949651\n",
      "Early stopping, best iteration is:\n",
      "[413]\tvalid_0's multi_logloss: 0.0927169\n",
      "nb_trees=413\n",
      "test_loss=0.0913674547902 test_acc=0.9722\n",
      "('Number of Principal Components: ', 100)\n",
      "Training until validation scores don't improve for 100 rounds.\n",
      "[100]\tvalid_0's multi_logloss: 0.231753\n",
      "[200]\tvalid_0's multi_logloss: 0.125681\n",
      "[300]\tvalid_0's multi_logloss: 0.1034\n",
      "[400]\tvalid_0's multi_logloss: 0.0984072\n",
      "[500]\tvalid_0's multi_logloss: 0.0997586\n",
      "Early stopping, best iteration is:\n",
      "[400]\tvalid_0's multi_logloss: 0.0984072\n",
      "nb_trees=400\n",
      "test_loss=0.0958606715803 test_acc=0.97\n"
     ]
    }
   ],
   "source": [
    "num_ds =-1\n",
    "accs = []\n",
    "for pc in num_pc:\n",
    "    print('Number of Principal Components: ', pc)\n",
    "    X_tr = np.dot(X_train, U[:,:pc])\n",
    "    X_va = np.dot(X_val, U[:,:pc])\n",
    "    X_te = np.dot(X_test, U[:,:pc])\n",
    "    \n",
    "    D_train = lightgbm.Dataset(X_tr[:num_ds], y_train[:num_ds])\n",
    "    D_val = lightgbm.Dataset(X_va[:num_ds], y_val[:num_ds])\n",
    "    \n",
    "    model = lightgbm.train(lgb_params,\n",
    "                       D_train,\n",
    "                       num_boost_round=1000,\n",
    "                       valid_sets=D_val,\n",
    "                       early_stopping_rounds=100,\n",
    "                       verbose_eval=100)\n",
    "    nb_trees = model.best_iteration\n",
    "    \n",
    "    print('nb_trees={}'.format(nb_trees))\n",
    "\n",
    "    y_pred = model.predict(X_te, num_iteration=nb_trees )\n",
    "    test_loss = sklearn.metrics.log_loss( y_test, y_pred, labels=list(range(10)))\n",
    "    \n",
    "    acc = sklearn.metrics.accuracy_score( y_test, np.argmax( y_pred, axis=1 ) )\n",
    "\n",
    "    print('test_loss={} test_acc={}'.format(test_loss, acc))\n",
    "    accs.append(acc)\n",
    "np.save('lgbm_acc.py',accs)"
   ]
  },
  {
   "cell_type": "code",
   "execution_count": null,
   "metadata": {},
   "outputs": [],
   "source": []
  },
  {
   "cell_type": "code",
   "execution_count": 6,
   "metadata": {},
   "outputs": [
    {
     "name": "stdout",
     "output_type": "stream",
     "text": [
      "('Number of Principal Components: ', 1)\n",
      "(47999, 1)\n",
      "Predicting Test\n",
      "test_acc=0.3115\n",
      "('Number of Principal Components: ', 5)\n",
      "(47999, 5)\n",
      "Predicting Test\n",
      "test_acc=0.7124\n",
      "('Number of Principal Components: ', 7)\n",
      "(47999, 7)\n",
      "Predicting Test\n",
      "test_acc=0.7993\n",
      "('Number of Principal Components: ', 10)\n",
      "(47999, 10)\n",
      "Predicting Test\n",
      "test_acc=0.8419\n",
      "('Number of Principal Components: ', 25)\n",
      "(47999, 25)\n",
      "Predicting Test\n",
      "test_acc=0.919\n",
      "('Number of Principal Components: ', 50)\n",
      "(47999, 50)\n",
      "Predicting Test\n",
      "test_acc=0.9374\n",
      "('Number of Principal Components: ', 100)\n",
      "(47999, 100)\n",
      "Predicting Test\n",
      "test_acc=0.9436\n"
     ]
    }
   ],
   "source": [
    "num_ds =-1\n",
    "svm_accs = []\n",
    "for pc in num_pc:\n",
    "    print('Number of Principal Components: ', pc)\n",
    "    X_tr = np.dot(X_train, U[:,:pc])\n",
    "    X_va = np.dot(X_val, U[:,:pc])\n",
    "    X_te = np.dot(X_test, U[:,:pc])\n",
    "    print(X_tr[:num_ds].shape)\n",
    "    classifier = svm.SVC(C=1e-6,kernel='linear', cache_size= 1536, probability=False)\n",
    "    classifier.fit(X_tr[:num_ds], y_train[:num_ds])\n",
    "    print('Predicting Test')\n",
    "    y_pred = classifier.predict(X_te)\n",
    "\n",
    "    acc = accuracy_score( y_test, y_pred )\n",
    "    print('test_acc={}'.format( acc))\n",
    "    svm_accs.append(acc)\n",
    "np.save('svm_acc.py',svm_accs)"
   ]
  },
  {
   "cell_type": "code",
   "execution_count": null,
   "metadata": {},
   "outputs": [],
   "source": []
  },
  {
   "cell_type": "code",
   "execution_count": 7,
   "metadata": {},
   "outputs": [
    {
     "name": "stdout",
     "output_type": "stream",
     "text": [
      "[1, 5, 7, 10, 25, 50, 100]\n"
     ]
    },
    {
     "data": {
      "image/png": "[encoded data removed]",
      "text/plain": [
       "<Figure size 432x288 with 1 Axes>"
      ]
     },
     "metadata": {},
     "output_type": "display_data"
    }
   ],
   "source": [
    "lgbm_accs = np.load('lgbm_accs.npy')\n",
    "svm_accs = np.load('svm_accs.npy')\n",
    "import matplotlib.pyplot as plt\n",
    "print(num_pc)\n",
    "plt.plot(num_pc,lgbm_accs,'r',label = 'Boosting')\n",
    "plt.plot(num_pc,svm_accs,'b',label = 'SVM')\n",
    "plt.legend(loc = 'lower right')\n",
    "plt.xlabel('Number of Principal Components')\n",
    "plt.ylabel('ACCR')\n",
    "plt.show()"
   ]
  },
  {
   "cell_type": "code",
   "execution_count": 8,
   "metadata": {},
   "outputs": [],
   "source": [
    "#best ACCR: 97.22 (Gradient Boosting Decision Trees)"
   ]
  }
 ],
 "metadata": {
  "kernelspec": {
   "display_name": "Python 2",
   "language": "python",
   "name": "python2"
  },
  "language_info": {
   "codemirror_mode": {
    "name": "ipython",
    "version": 2
   },
   "file_extension": ".py",
   "mimetype": "text/x-python",
   "name": "python",
   "nbconvert_exporter": "python",
   "pygments_lexer": "ipython2",
   "version": "2.7.12"
  }
 },
 "nbformat": 4,
 "nbformat_minor": 2
}
