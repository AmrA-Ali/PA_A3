{
 "cells": [
  {
   "cell_type": "code",
   "execution_count": 1,
   "metadata": {},
   "outputs": [],
   "source": [
    "from sklearn import metrics\n",
    "import numpy as np\n",
    "from numpy.linalg import inv\n",
    "from sklearn.metrics import confusion_matrix, classification_report,roc_curve\n",
    "from numpy import loadtxt\n",
    "import xgboost as xgb\n",
    "from sklearn.model_selection import train_test_split\n",
    "from sklearn.metrics import accuracy_score\n",
    "import matplotlib.pyplot as plt\n"
   ]
  },
  {
   "cell_type": "code",
   "execution_count": 2,
   "metadata": {},
   "outputs": [],
   "source": [
    "path  = 'data.txt'\n",
    "skin = open(path,'r')\n",
    "rl = skin.readlines()\n",
    "#print(rl)\n",
    "\n",
    "src_data = []\n",
    "count = [0,0]\n",
    "for e in rl:\n",
    "    if(e.find('\\n') != -1):\n",
    "        e = e[:-1]\n",
    "    a= e.split(' ')\n",
    "    a = [float(i) for i in a]\n",
    "    src_data.append(np.array(a))\n",
    "\n",
    "skin.close()\n",
    "#print(src_data)\n",
    "\n",
    "\n",
    "x_points = [e[:-1] for e in src_data]\n",
    "y_points = [e[-1] for e in src_data]\n",
    "\n",
    "x_train,y_train = np.array(x_points[:216]), y_points[0:216]\n",
    "x_test,y_test = np.array(x_points[216:]), y_points[216:]"
   ]
  },
  {
   "cell_type": "code",
   "execution_count": 3,
   "metadata": {},
   "outputs": [
    {
     "name": "stdout",
     "output_type": "stream",
     "text": [
      "Accuracy:  0.8518502743513438\n"
     ]
    }
   ],
   "source": [
    "from svm import SVM\n",
    "clf = SVM(kernel=\"linear\", C=1.0,verbose=1)\n",
    "clf.fit(x_train, np.array(y_train)*2-3)\n",
    "predictions = clf.predict(x_test)\n",
    "probs = clf.predict_score(x_test)\n",
    "#print(predictions)\n",
    "print 'Accuracy: ', np.sum(predictions == np.array(y_test)*2-3 ) /(0.0001+len(predictions))\n",
    "import math\n",
    "\n",
    "def sigmoid(x):\n",
    "    return 1 / (1 + math.exp(-x))\n",
    "sigs = [sigmoid(e) for e in probs]\n",
    "svm_fpr, svm_tpr, svm_th = roc_curve(np.array(y_test)-1, sigs)\n",
    "svm_roc_auc = metrics.auc(svm_fpr, svm_tpr)"
   ]
  },
  {
   "cell_type": "code",
   "execution_count": 4,
   "metadata": {},
   "outputs": [
    {
     "name": "stdout",
     "output_type": "stream",
     "text": [
      "0.8518502743513438\n"
     ]
    }
   ],
   "source": [
    "##XGBOOSTING \n",
    "\n",
    "import xgboost as xgb\n",
    "\n",
    "dtrain = xgb.DMatrix(x_train, label=np.array(y_train)-1)\n",
    "dtest = xgb.DMatrix(x_test, label=np.array(y_test)-1)\n",
    "param = {\n",
    "    'max_depth': 3,  # the maximum depth of each tree\n",
    "    'eta': 0.3,  # the training step for each iteration\n",
    "    'silent': 1,  # logging mode - quiet\n",
    "    'objective': 'binary:logistic',  # error evaluation for multiclass training\n",
    "}\n",
    "num_round = 20  # the number of training iterations\n",
    "bst = xgb.train(param, dtrain, num_round)\n",
    "preds = bst.predict(dtest)\n",
    "#print preds\n",
    "predictions = [round(value) for value in preds]\n",
    "\n",
    "print np.sum(predictions == np.array(y_test)-1)/(0.0001+len(predictions))\n",
    "\n",
    "xg_fpr, xg_tpr, xg_th = roc_curve(np.array(y_test)-1, preds)\n",
    "xg_roc_auc = metrics.auc(xg_fpr, xg_tpr)"
   ]
  },
  {
   "cell_type": "code",
   "execution_count": 5,
   "metadata": {},
   "outputs": [
    {
     "data": {
      "image/png": "[encoded data removed]",
      "text/plain": [
       "<Figure size 432x288 with 1 Axes>"
      ]
     },
     "metadata": {},
     "output_type": "display_data"
    }
   ],
   "source": [
    "plt.title('Receiver Operating Characteristic')\n",
    "plt.plot(xg_fpr, xg_tpr, 'b', label = 'XGBoost AUC = %0.2f' % xg_roc_auc)\n",
    "plt.plot(svm_fpr, svm_tpr, 'g', label = 'SVM AUC = %0.2f' % svm_roc_auc)\n",
    "plt.legend(loc = 'lower right')\n",
    "plt.plot([0, 1], [0, 1],'r--')\n",
    "plt.xlim([0, 1.05])\n",
    "plt.ylim([0, 1.05])\n",
    "plt.ylabel('True Positive Rate')\n",
    "plt.xlabel('False Positive Rate')\n",
    "plt.show()"
   ]
  },
  {
   "cell_type": "code",
   "execution_count": null,
   "metadata": {},
   "outputs": [],
   "source": []
  }
 ],
 "metadata": {
  "kernelspec": {
   "display_name": "Python 2",
   "language": "python",
   "name": "python2"
  },
  "language_info": {
   "codemirror_mode": {
    "name": "ipython",
    "version": 2
   },
   "file_extension": ".py",
   "mimetype": "text/x-python",
   "name": "python",
   "nbconvert_exporter": "python",
   "pygments_lexer": "ipython2",
   "version": "2.7.12"
  }
 },
 "nbformat": 4,
 "nbformat_minor": 2
}
